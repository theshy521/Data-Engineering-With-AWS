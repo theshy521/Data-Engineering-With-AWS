{
 "cells": [
  {
   "cell_type": "code",
   "execution_count": 1,
   "metadata": {},
   "outputs": [],
   "source": [
    "import configparser\n",
    "import pandas as pd\n",
    "pd.set_option('display.max_rows', 200)"
   ]
  },
  {
   "cell_type": "code",
   "execution_count": 2,
   "metadata": {},
   "outputs": [],
   "source": [
    "%run sql_queries.py"
   ]
  },
  {
   "cell_type": "code",
   "execution_count": 3,
   "metadata": {},
   "outputs": [
    {
     "name": "stdout",
     "output_type": "stream",
     "text": [
      "Drop table if exists successfully!!!.\n",
      "\n",
      "Drop table if exists successfully!!!.\n",
      "\n",
      "Drop table if exists successfully!!!.\n",
      "\n",
      "Drop table if exists successfully!!!.\n",
      "\n",
      "Drop table if exists successfully!!!.\n",
      "\n",
      "Drop table if exists successfully!!!.\n",
      "\n",
      "Drop table if exists successfully!!!.\n",
      "\n",
      "Create table successfully!!!.\n",
      "\n",
      "Create table successfully!!!.\n",
      "\n",
      "Create table successfully!!!.\n",
      "\n",
      "Create table successfully!!!.\n",
      "\n",
      "Create table successfully!!!.\n",
      "\n",
      "Create table successfully!!!.\n",
      "\n",
      "Create table successfully!!!.\n",
      "\n"
     ]
    }
   ],
   "source": [
    "%run create_tables.py"
   ]
  },
  {
   "cell_type": "code",
   "execution_count": 4,
   "metadata": {},
   "outputs": [
    {
     "name": "stdout",
     "output_type": "stream",
     "text": [
      "Start to load source data from S3 bucket to staging database on AWS Redshift DataWarehouse.\n",
      "\n",
      "Load source data to staging table successfully!!!.\n",
      "\n",
      "Load source data to staging table successfully!!!.\n",
      "\n",
      "Start to insert data to proper target database on AWS Redshift DataWarehouse.\n",
      "\n",
      "Insert into target table with proper transform logic successfully!!!.\n",
      "\n",
      "Insert into target table with proper transform logic successfully!!!.\n",
      "\n",
      "Insert into target table with proper transform logic successfully!!!.\n",
      "\n",
      "Insert into target table with proper transform logic successfully!!!.\n",
      "\n",
      "Insert into target table with proper transform logic successfully!!!.\n",
      "\n"
     ]
    }
   ],
   "source": [
    "%run etl.py"
   ]
  },
  {
   "cell_type": "code",
   "execution_count": 5,
   "metadata": {},
   "outputs": [
    {
     "name": "stdout",
     "output_type": "stream",
     "text": [
      "Start to verify counts of table.\n",
      "\n",
      "\n",
      "SELECT COUNT(*) FROM staging_events;\n",
      "\n",
      "[(16112,)]\n",
      "\n",
      "SELECT COUNT(*) FROM staging_songs;\n",
      "\n",
      "[(14896,)]\n",
      "\n",
      "SELECT COUNT(*) FROM songplays;\n",
      "\n",
      "[(333,)]\n",
      "\n",
      "SELECT COUNT(*) FROM users;\n",
      "\n",
      "[(105,)]\n",
      "\n",
      "SELECT COUNT(*) FROM songs;\n",
      "\n",
      "[(14896,)]\n",
      "\n",
      "SELECT COUNT(*) FROM artists;\n",
      "\n",
      "[(10025,)]\n",
      "\n",
      "SELECT COUNT(*) FROM time;\n",
      "\n",
      "[(8023,)]\n"
     ]
    }
   ],
   "source": [
    "%run verify_tables.py"
   ]
  },
  {
   "cell_type": "code",
   "execution_count": 33,
   "metadata": {},
   "outputs": [],
   "source": [
    "config = configparser.ConfigParser()\n",
    "config.read('dwh.cfg')\n",
    "\n",
    "conn = psycopg2.connect(\"host={} dbname={} user={} password={} port={}\".format(*config['CLUSTER'].values()))\n",
    "cur = conn.cursor()"
   ]
  },
  {
   "cell_type": "code",
   "execution_count": 32,
   "metadata": {},
   "outputs": [],
   "source": [
    "cur.close()\n",
    "conn.close()"
   ]
  },
  {
   "cell_type": "code",
   "execution_count": 36,
   "metadata": {},
   "outputs": [
    {
     "data": {
      "text/plain": [
       "'\\n    SELECT count(*)\\n    FROM staging_events e\\n    JOIN staging_songs s ON e.song = s.title\\n    ;'"
      ]
     },
     "execution_count": 36,
     "metadata": {},
     "output_type": "execute_result"
    }
   ],
   "source": [
    "sql = \"\"\"\n",
    "    SELECT count(*)\n",
    "    FROM staging_events e\n",
    "    JOIN staging_songs s ON e.song = s.title\n",
    "    ;\"\"\"\n",
    "sql"
   ]
  },
  {
   "cell_type": "code",
   "execution_count": 20,
   "metadata": {},
   "outputs": [
    {
     "data": {
      "text/plain": [
       "'\\n    SELECT count(distinct e.song)\\n    FROM staging_events e\\n    ;'"
      ]
     },
     "execution_count": 20,
     "metadata": {},
     "output_type": "execute_result"
    }
   ],
   "source": [
    "sql1 = \"\"\"\n",
    "    SELECT count(distinct e.song)\n",
    "    FROM staging_events e\n",
    "    ;\"\"\"\n",
    "sql1"
   ]
  },
  {
   "cell_type": "code",
   "execution_count": 34,
   "metadata": {},
   "outputs": [
    {
     "data": {
      "text/plain": [
       "'\\n    SELECT count(distinct s.title)\\n    FROM staging_songs s\\n    ;'"
      ]
     },
     "execution_count": 34,
     "metadata": {},
     "output_type": "execute_result"
    }
   ],
   "source": [
    "sql2 = \"\"\"\n",
    "    SELECT count(distinct s.title)\n",
    "    FROM staging_songs s\n",
    "    ;\"\"\"\n",
    "sql2"
   ]
  },
  {
   "cell_type": "code",
   "execution_count": 37,
   "metadata": {},
   "outputs": [
    {
     "data": {
      "text/plain": [
       "[(1144,)]"
      ]
     },
     "execution_count": 37,
     "metadata": {},
     "output_type": "execute_result"
    }
   ],
   "source": [
    "cur.execute(sql)\n",
    "result = cur.fetchall()\n",
    "result"
   ]
  },
  {
   "cell_type": "code",
   "execution_count": null,
   "metadata": {},
   "outputs": [],
   "source": []
  }
 ],
 "metadata": {
  "kernelspec": {
   "display_name": "Python 3.9.12 ('base')",
   "language": "python",
   "name": "python3"
  },
  "language_info": {
   "codemirror_mode": {
    "name": "ipython",
    "version": 3
   },
   "file_extension": ".py",
   "mimetype": "text/x-python",
   "name": "python",
   "nbconvert_exporter": "python",
   "pygments_lexer": "ipython3",
   "version": "3.9.12"
  },
  "orig_nbformat": 4,
  "vscode": {
   "interpreter": {
    "hash": "49cb93f377a7abe7414b7b0f21fb3017538004a126cf690fb524202736b7fb92"
   }
  }
 },
 "nbformat": 4,
 "nbformat_minor": 2
}
